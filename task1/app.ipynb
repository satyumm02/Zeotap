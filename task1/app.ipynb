{
 "cells": [
  {
   "cell_type": "code",
   "execution_count": 10,
   "metadata": {},
   "outputs": [
    {
     "name": "stdout",
     "output_type": "stream",
     "text": [
      "Defaulting to user installation because normal site-packages is not writeable\n",
      "Requirement already satisfied: pandas in c:\\users\\satya\\appdata\\roaming\\python\\python311\\site-packages (2.2.1)\n",
      "Requirement already satisfied: matplotlib in c:\\users\\satya\\appdata\\roaming\\python\\python311\\site-packages (3.8.1)\n",
      "Requirement already satisfied: seaborn in c:\\users\\satya\\appdata\\roaming\\python\\python311\\site-packages (0.13.2)\n",
      "Requirement already satisfied: numpy<2,>=1.23.2 in c:\\users\\satya\\appdata\\roaming\\python\\python311\\site-packages (from pandas) (1.26.1)\n",
      "Requirement already satisfied: python-dateutil>=2.8.2 in c:\\users\\satya\\appdata\\roaming\\python\\python311\\site-packages (from pandas) (2.8.2)\n",
      "Requirement already satisfied: pytz>=2020.1 in c:\\users\\satya\\appdata\\roaming\\python\\python311\\site-packages (from pandas) (2024.1)\n",
      "Requirement already satisfied: tzdata>=2022.7 in c:\\users\\satya\\appdata\\roaming\\python\\python311\\site-packages (from pandas) (2024.1)\n",
      "Requirement already satisfied: contourpy>=1.0.1 in c:\\users\\satya\\appdata\\roaming\\python\\python311\\site-packages (from matplotlib) (1.2.0)\n",
      "Requirement already satisfied: cycler>=0.10 in c:\\users\\satya\\appdata\\roaming\\python\\python311\\site-packages (from matplotlib) (0.12.1)\n",
      "Requirement already satisfied: fonttools>=4.22.0 in c:\\users\\satya\\appdata\\roaming\\python\\python311\\site-packages (from matplotlib) (4.44.0)\n",
      "Requirement already satisfied: kiwisolver>=1.3.1 in c:\\users\\satya\\appdata\\roaming\\python\\python311\\site-packages (from matplotlib) (1.4.5)\n",
      "Requirement already satisfied: packaging>=20.0 in c:\\users\\satya\\appdata\\roaming\\python\\python311\\site-packages (from matplotlib) (23.1)\n",
      "Requirement already satisfied: pillow>=8 in c:\\users\\satya\\appdata\\roaming\\python\\python311\\site-packages (from matplotlib) (10.1.0)\n",
      "Requirement already satisfied: pyparsing>=2.3.1 in c:\\users\\satya\\appdata\\roaming\\python\\python311\\site-packages (from matplotlib) (3.1.1)\n",
      "Requirement already satisfied: six>=1.5 in c:\\users\\satya\\appdata\\roaming\\python\\python311\\site-packages (from python-dateutil>=2.8.2->pandas) (1.16.0)\n"
     ]
    },
    {
     "name": "stderr",
     "output_type": "stream",
     "text": [
      "DEPRECATION: Loading egg at c:\\program files\\python311\\lib\\site-packages\\vboxapi-1.0-py3.11.egg is deprecated. pip 25.1 will enforce this behaviour change. A possible replacement is to use pip for package installation. Discussion can be found at https://github.com/pypa/pip/issues/12330\n"
     ]
    }
   ],
   "source": [
    "!pip install pandas matplotlib seaborn\n"
   ]
  },
  {
   "cell_type": "code",
   "execution_count": 11,
   "metadata": {},
   "outputs": [
    {
     "ename": "ModuleNotFoundError",
     "evalue": "No module named 'pandas'",
     "output_type": "error",
     "traceback": [
      "\u001b[1;31m---------------------------------------------------------------------------\u001b[0m",
      "\u001b[1;31mModuleNotFoundError\u001b[0m                       Traceback (most recent call last)",
      "Cell \u001b[1;32mIn[11], line 1\u001b[0m\n\u001b[1;32m----> 1\u001b[0m \u001b[38;5;28;01mimport\u001b[39;00m\u001b[38;5;250m \u001b[39m\u001b[38;5;21;01mpandas\u001b[39;00m\u001b[38;5;250m \u001b[39m\u001b[38;5;28;01mas\u001b[39;00m\u001b[38;5;250m \u001b[39m\u001b[38;5;21;01mpd\u001b[39;00m\n\u001b[0;32m      2\u001b[0m \u001b[38;5;28;01mimport\u001b[39;00m\u001b[38;5;250m \u001b[39m\u001b[38;5;21;01mmatplotlib\u001b[39;00m\u001b[38;5;21;01m.\u001b[39;00m\u001b[38;5;21;01mpyplot\u001b[39;00m\u001b[38;5;250m \u001b[39m\u001b[38;5;28;01mas\u001b[39;00m\u001b[38;5;250m \u001b[39m\u001b[38;5;21;01mplt\u001b[39;00m\n\u001b[0;32m      3\u001b[0m \u001b[38;5;28;01mimport\u001b[39;00m\u001b[38;5;250m \u001b[39m\u001b[38;5;21;01mseaborn\u001b[39;00m\u001b[38;5;250m \u001b[39m\u001b[38;5;28;01mas\u001b[39;00m\u001b[38;5;250m \u001b[39m\u001b[38;5;21;01msns\u001b[39;00m\n",
      "\u001b[1;31mModuleNotFoundError\u001b[0m: No module named 'pandas'"
     ]
    }
   ],
   "source": [
    "import pandas as pd\n",
    "import matplotlib.pyplot as plt\n",
    "import seaborn as sns"
   ]
  },
  {
   "cell_type": "code",
   "execution_count": null,
   "metadata": {},
   "outputs": [],
   "source": [
    "# Load datasets\n",
    "customers = pd.read_csv(\"customers.csv\")\n",
    "products = pd.read_csv(\"products.csv\")\n",
    "transactions = pd.read_csv(\"transactions.csv\")"
   ]
  },
  {
   "cell_type": "code",
   "execution_count": null,
   "metadata": {},
   "outputs": [],
   "source": [
    "# Convert date columns to datetime format\n",
    "customers['SignupDate'] = pd.to_datetime(customers['SignupDate'])\n",
    "transactions['TransactionDate'] = pd.to_datetime(transactions['TransactionDate'])\n"
   ]
  },
  {
   "cell_type": "code",
   "execution_count": null,
   "metadata": {},
   "outputs": [],
   "source": [
    "# Basic Information and Summary\n",
    "print(\"Customers Dataset Info:\")\n",
    "print(customers.info())\n",
    "print(customers.describe(include='all'))\n",
    "\n",
    "print(\"\\nProducts Dataset Info:\")\n",
    "print(products.info())\n",
    "print(products.describe(include='all'))\n",
    "\n",
    "print(\"\\nTransactions Dataset Info:\")\n",
    "print(transactions.info())\n",
    "print(transactions.describe())\n"
   ]
  },
  {
   "cell_type": "code",
   "execution_count": null,
   "metadata": {},
   "outputs": [],
   "source": [
    "# Check for missing values\n",
    "print(\"\\nMissing Values in Customers:\")\n",
    "print(customers.isnull().sum())\n",
    "\n",
    "print(\"\\nMissing Values in Products:\")\n",
    "print(products.isnull().sum())\n",
    "\n",
    "print(\"\\nMissing Values in Transactions:\")\n",
    "print(transactions.isnull().sum())"
   ]
  },
  {
   "cell_type": "code",
   "execution_count": null,
   "metadata": {},
   "outputs": [],
   "source": [
    "# Merge datasets for a consolidated view\n",
    "merged_data = transactions.merge(customers, on='CustomerID', how='left').merge(products, on='ProductID', how='left')\n"
   ]
  },
  {
   "cell_type": "code",
   "execution_count": null,
   "metadata": {},
   "outputs": [],
   "source": [
    "# EDA: Visualizations\n",
    "sns.set(style=\"whitegrid\")"
   ]
  },
  {
   "cell_type": "code",
   "execution_count": null,
   "metadata": {},
   "outputs": [],
   "source": [
    "# 1. Distribution of Customers by Region (Pie Chart)\n",
    "plt.figure(figsize=(8, 8))\n",
    "customers['Region'].value_counts().plot(kind='pie', autopct='%1.1f%%', startangle=140, colors=sns.color_palette('viridis', len(customers['Region'].unique())))\n",
    "plt.title(\"Distribution of Customers by Region\")\n",
    "plt.ylabel(\"\")\n",
    "plt.show()"
   ]
  },
  {
   "cell_type": "code",
   "execution_count": null,
   "metadata": {},
   "outputs": [],
   "source": [
    "# 2. Revenue by Product Category (Pie Chart)\n",
    "category_revenue = merged_data.groupby('Category')['TotalValue'].sum().sort_values(ascending=False)\n",
    "plt.figure(figsize=(8, 8))\n",
    "category_revenue.plot(kind='pie', autopct='%1.1f%%', startangle=140, colors=sns.color_palette('pastel', len(category_revenue)))\n",
    "plt.title(\"Revenue by Product Category\")\n",
    "plt.ylabel(\"\")\n",
    "plt.show()"
   ]
  },
  {
   "cell_type": "code",
   "execution_count": null,
   "metadata": {},
   "outputs": [],
   "source": [
    "# 3. Monthly Sales Trend\n",
    "merged_data['MonthYear'] = merged_data['TransactionDate'].dt.to_period('M')\n",
    "monthly_sales = merged_data.groupby('MonthYear')['TotalValue'].sum()\n",
    "plt.figure(figsize=(12, 6))\n",
    "monthly_sales.plot(marker='o', linestyle='-', color='green')\n",
    "plt.title(\"Monthly Sales Trend\")\n",
    "plt.xlabel(\"Month-Year\")\n",
    "plt.ylabel(\"Total Sales (USD)\")\n",
    "plt.grid()\n",
    "plt.show()"
   ]
  },
  {
   "cell_type": "code",
   "execution_count": null,
   "metadata": {},
   "outputs": [],
   "source": [
    "# 4. Top 10 Customers vs Rest by Total Spending\n",
    "total_spending = merged_data.groupby('CustomerName')['TotalValue'].sum()\n",
    "top_customers = total_spending.nlargest(10)\n",
    "others_spending = total_spending.sum() - top_customers.sum()\n",
    "spending_data = pd.concat([top_customers, pd.Series({'Others': others_spending})])\n",
    "\n",
    "plt.figure(figsize=(10, 8))\n",
    "spending_data.plot(kind='pie', autopct='%1.1f%%', startangle=140, colors=sns.color_palette('Set3', len(spending_data)))\n",
    "plt.title(\"Top 10 Customers vs Rest by Total Spending\")\n",
    "plt.ylabel(\"\")\n",
    "plt.show()"
   ]
  },
  {
   "cell_type": "code",
   "execution_count": null,
   "metadata": {},
   "outputs": [],
   "source": [
    "# 5. Top 10 Products vs Rest by Total Revenue\n",
    "total_revenue = merged_data.groupby('ProductName')['TotalValue'].sum()\n",
    "top_products = total_revenue.nlargest(10)\n",
    "others_revenue = total_revenue.sum() - top_products.sum()\n",
    "revenue_data = pd.concat([top_products, pd.Series({'Others': others_revenue})])\n",
    "\n",
    "plt.figure(figsize=(10, 8))\n",
    "revenue_data.plot(kind='pie', autopct='%1.1f%%', startangle=140, colors=sns.color_palette('Set2', len(revenue_data)))\n",
    "plt.title(\"Top 10 Products vs Rest by Total Revenue\")\n",
    "plt.ylabel(\"\")\n",
    "plt.show()"
   ]
  },
  {
   "cell_type": "code",
   "execution_count": null,
   "metadata": {},
   "outputs": [],
   "source": [
    "# 6. Per Day Transaction Value\n",
    "daily_transactions = transactions.groupby('TransactionDate')['TotalValue'].sum()\n",
    "plt.figure(figsize=(12, 6))\n",
    "daily_transactions.plot(marker='o', linestyle='-', color='blue')\n",
    "plt.title(\"Per Day Transaction Value\")\n",
    "plt.xlabel(\"Date\")\n",
    "plt.ylabel(\"Total Transaction Value (USD)\")\n",
    "plt.grid()\n",
    "plt.show()"
   ]
  },
  {
   "cell_type": "code",
   "execution_count": null,
   "metadata": {},
   "outputs": [],
   "source": [
    "# Print key insights\n",
    "print(\"\\n--- Key Insights ---\")\n",
    "print(\"1. Distribution of customers shows the concentration of customer base by region.\")\n",
    "print(\"2. Revenue is driven heavily by specific product categories, indicating high-performing segments.\")\n",
    "print(\"3. Sales show a trend of seasonality, with peaks at specific times of the year.\")\n",
    "print(\"4. Top customers contribute significantly to the overall revenue, suggesting the need for VIP strategies.\")\n",
    "print(\"5. Certain products dominate in terms of quantity sold, which could guide inventory planning.\")\n"
   ]
  }
 ],
 "metadata": {
  "kernelspec": {
   "display_name": "Python 3",
   "language": "python",
   "name": "python3"
  },
  "language_info": {
   "codemirror_mode": {
    "name": "ipython",
    "version": 3
   },
   "file_extension": ".py",
   "mimetype": "text/x-python",
   "name": "python",
   "nbconvert_exporter": "python",
   "pygments_lexer": "ipython3",
   "version": "3.12.0"
  }
 },
 "nbformat": 4,
 "nbformat_minor": 2
}

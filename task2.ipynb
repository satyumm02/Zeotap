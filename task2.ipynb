{
 "cells": [
  {
   "cell_type": "code",
   "execution_count": 1,
   "metadata": {},
   "outputs": [],
   "source": [
    "#!pip install scikit-learn"
   ]
  },
  {
   "cell_type": "code",
   "execution_count": 2,
   "metadata": {},
   "outputs": [],
   "source": [
    "import pandas as pd\n",
    "import numpy as np\n",
    "from sklearn.metrics.pairwise import cosine_similarity\n",
    "from sklearn.preprocessing import OneHotEncoder"
   ]
  },
  {
   "cell_type": "code",
   "execution_count": 4,
   "metadata": {},
   "outputs": [],
   "source": [
    "# One-hot encode the \"Region\" column\n",
    "encoder = OneHotEncoder()\n",
    "region_encoded = encoder.fit_transform(customers[[\"Region\"]]).toarray()\n",
    "region_df = pd.DataFrame(region_encoded, columns=encoder.get_feature_names_out([\"Region\"]))\n",
    "customers = pd.concat([customers, region_df], axis=1)\n"
   ]
  },
  {
   "cell_type": "code",
   "execution_count": 5,
   "metadata": {},
   "outputs": [],
   "source": [
    "# Aggregate transaction data\n",
    "transaction_summary = transactions.groupby([\"CustomerID\", \"ProductID\"]).agg(\n",
    "    {\"Quantity\": \"sum\", \"TotalValue\": \"sum\"}\n",
    ").unstack(fill_value=0)"
   ]
  },
  {
   "cell_type": "code",
   "execution_count": 6,
   "metadata": {},
   "outputs": [],
   "source": [
    "# Flatten the multi-level column index and reset index\n",
    "transaction_summary.columns = [f\"{col[0]}_{col[1]}\" for col in transaction_summary.columns]\n",
    "transaction_summary = transaction_summary.reset_index()\n"
   ]
  },
  {
   "cell_type": "code",
   "execution_count": 7,
   "metadata": {},
   "outputs": [],
   "source": [
    "# Merge customer profiles with transaction data\n",
    "customer_profiles = customers.set_index(\"CustomerID\")\n",
    "transaction_summary = transaction_summary.set_index(\"CustomerID\")\n",
    "full_data = customer_profiles.join(transaction_summary, how=\"left\").fillna(0)\n"
   ]
  },
  {
   "cell_type": "code",
   "execution_count": 8,
   "metadata": {},
   "outputs": [],
   "source": [
    "# Compute cosine similarity between all customers\n",
    "def calculate_cosine_similarity(full_data):\n",
    "    numerical_data = full_data.select_dtypes(include=[np.number])\n",
    "    similarity_matrix = cosine_similarity(numerical_data)\n",
    "    return similarity_matrix\n"
   ]
  },
  {
   "cell_type": "code",
   "execution_count": 9,
   "metadata": {},
   "outputs": [],
   "source": [
    "#Compute lookalikes for the first 20 customers\n",
    "def compute_top_lookalikes(full_data, top_n=3):\n",
    "    similarity_matrix = calculate_cosine_similarity(full_data)\n",
    "    lookalike_map = {}\n",
    "    customer_ids = full_data.index\n",
    "\n",
    "    for i, cust_id in enumerate(customer_ids[:20]):\n",
    "        similarities = [(customer_ids[j], similarity_matrix[i, j]) for j in range(len(customer_ids)) if i != j]\n",
    "        # Sort by similarity score and get the top N lookalikes\n",
    "        top_lookalikes = sorted(similarities, key=lambda x: x[1], reverse=True)[:top_n]\n",
    "        lookalike_map[cust_id] = top_lookalikes\n",
    "\n",
    "    return lookalike_map"
   ]
  },
  {
   "cell_type": "code",
   "execution_count": 10,
   "metadata": {},
   "outputs": [],
   "source": [
    "# Generate the lookalike map\n",
    "lookalike_map = compute_top_lookalikes(full_data)"
   ]
  },
  {
   "cell_type": "code",
   "execution_count": 11,
   "metadata": {},
   "outputs": [],
   "source": [
    "# Convert to the required format\n",
    "lookalike_list = []\n",
    "for cust_id, lookalikes in lookalike_map.items():\n",
    "    lookalike_str = {cust_id: [(other_id, round(score, 4)) for other_id, score in lookalikes]}\n",
    "    lookalike_list.append(lookalike_str)"
   ]
  },
  {
   "cell_type": "code",
   "execution_count": 12,
   "metadata": {},
   "outputs": [],
   "source": [
    "# Save to Lookalike.csv\n",
    "lookalike_df = pd.DataFrame({'lookalikeMap': lookalike_list})\n",
    "lookalike_df.to_csv('lookalike.csv', index=False)"
   ]
  }
 ],
 "metadata": {
  "kernelspec": {
   "display_name": ".venv",
   "language": "python",
   "name": "python3"
  },
  "language_info": {
   "codemirror_mode": {
    "name": "ipython",
    "version": 3
   },
   "file_extension": ".py",
   "mimetype": "text/x-python",
   "name": "python",
   "nbconvert_exporter": "python",
   "pygments_lexer": "ipython3",
   "version": "3.12.0"
  }
 },
 "nbformat": 4,
 "nbformat_minor": 2
}
